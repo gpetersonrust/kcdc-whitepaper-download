{
 "cells": [
  {
   "cell_type": "code",
   "execution_count": 15,
   "id": "a1f06972",
   "metadata": {},
   "outputs": [
    {
     "ename": "ModuleNotFoundError",
     "evalue": "No module named 'pexpect'",
     "output_type": "error",
     "traceback": [
      "\u001b[31m---------------------------------------------------------------------------\u001b[39m",
      "\u001b[31mModuleNotFoundError\u001b[39m                       Traceback (most recent call last)",
      "\u001b[36mCell\u001b[39m\u001b[36m \u001b[39m\u001b[32mIn[15]\u001b[39m\u001b[32m, line 1\u001b[39m\n\u001b[32m----> \u001b[39m\u001b[32m1\u001b[39m \u001b[43mget_ipython\u001b[49m\u001b[43m(\u001b[49m\u001b[43m)\u001b[49m\u001b[43m.\u001b[49m\u001b[43msystem\u001b[49m\u001b[43m(\u001b[49m\u001b[33;43m'\u001b[39;49m\u001b[33;43mpip install pexpect\u001b[39;49m\u001b[33;43m'\u001b[39;49m\u001b[43m)\u001b[49m\n",
      "\u001b[36mFile \u001b[39m\u001b[32m~/Local Sites/kcdc/app/public/wp-content/plugins/kcdc-whitepaper-download/.venv/lib/python3.13/site-packages/ipykernel/zmqshell.py:657\u001b[39m, in \u001b[36msystem_piped\u001b[39m\u001b[34m(self, cmd)\u001b[39m\n",
      "\u001b[36mFile \u001b[39m\u001b[32m~/Local Sites/kcdc/app/public/wp-content/plugins/kcdc-whitepaper-download/.venv/lib/python3.13/site-packages/IPython/utils/_process_posix.py:98\u001b[39m, in \u001b[36msystem\u001b[39m\u001b[34m(self, cmd)\u001b[39m\n",
      "\u001b[31mModuleNotFoundError\u001b[39m: No module named 'pexpect'"
     ]
    }
   ],
   "source": [
    "!pip install pexpect\n"
   ]
  },
  {
   "cell_type": "code",
   "execution_count": null,
   "id": "e879f3e1",
   "metadata": {},
   "outputs": [],
   "source": [
    "import asyncio\n",
    "from playwright.async_api import async_playwright\n",
    "\n",
    "FORM_URLS = [\n",
    "    \"https://kcdc.local/whitepaper/second-white-paper/\",\n",
    "    \"https://kcdc.local/whitepaper/testing-me-out/\",\n",
    "]\n",
    "DOWNLOAD_BASE = \"https://kcdc.local/white-paper-download/\"\n",
    "TOTAL_USERS = 50\n",
    "\n",
    "\n",
    "async def simulate_user(playwright, user_id, form_url):\n",
    "    browser = await playwright.chromium.launch(headless=True)\n",
    "    context = await browser.new_context()\n",
    "    page = await context.new_page()\n",
    "\n",
    "    try:\n",
    "        await page.goto(form_url)\n",
    "        await page.fill(\"#kcdc_name\", f\"Test User {user_id}\")\n",
    "        await page.fill(\"#kcdc_agency\", f\"Agency {user_id}\")\n",
    "        await page.fill(\"#kcdc_email\", f\"testuser{user_id}@example.com\")\n",
    "        await page.click(\".kcdc-submit-button\")\n",
    "        await page.wait_for_url(\"**?success=true**\", timeout=10000)\n",
    "\n",
    "        final_url = page.url\n",
    "        token = page.url.split(\"token=\")[-1].split(\"&\")[0]\n",
    "        post_id = page.url.split(\"post_id=\")[-1].split(\"&\")[0]\n",
    "\n",
    "        download_url = f\"{DOWNLOAD_BASE}?action=kcdc_download_whitepaper&token={token}&post_id={post_id}\"\n",
    "        await page.goto(download_url)\n",
    "\n",
    "        if await page.query_selector(\".kcdc-download-error\"):\n",
    "            text = await page.inner_text(\".kcdc-download-error\")\n",
    "            print(f\"❌ User {user_id}: ERROR - {text.strip()}\")\n",
    "        elif await page.query_selector(\".kcdc-download-documents a\"):\n",
    "            print(f\"✅ User {user_id}: SUCCESS - Download ready\")\n",
    "        else:\n",
    "            print(f\"❌ User {user_id}: Unknown state\")\n",
    "\n",
    "    except Exception as e:\n",
    "        print(f\"❌ User {user_id}: Exception - {e}\")\n",
    "    finally:\n",
    "        await context.close()\n",
    "        await browser.close()\n",
    "\n",
    "\n",
    "async def main():\n",
    "    async with async_playwright() as playwright:\n",
    "        tasks = []\n",
    "        for i in range(TOTAL_USERS):\n",
    "            form_url = FORM_URLS[i % len(FORM_URLS)]\n",
    "            tasks.append(simulate_user(playwright, i + 1, form_url))\n",
    "        await asyncio.gather(*tasks)\n",
    "\n",
    "\n",
    "if __name__ == \"__main__\":\n",
    "    asyncio.run(main())\n"
   ]
  }
 ],
 "metadata": {
  "kernelspec": {
   "display_name": ".venv",
   "language": "python",
   "name": "python3"
  },
  "language_info": {
   "codemirror_mode": {
    "name": "ipython",
    "version": 3
   },
   "file_extension": ".py",
   "mimetype": "text/x-python",
   "name": "python",
   "nbconvert_exporter": "python",
   "pygments_lexer": "ipython3",
   "version": "3.13.2"
  }
 },
 "nbformat": 4,
 "nbformat_minor": 5
}
